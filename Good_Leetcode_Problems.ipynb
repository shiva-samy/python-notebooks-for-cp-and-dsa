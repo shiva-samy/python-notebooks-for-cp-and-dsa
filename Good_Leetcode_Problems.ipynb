{
 "cells": [
  {
   "cell_type": "markdown",
   "metadata": {
    "colab_type": "text",
    "id": "view-in-github"
   },
   "source": [
    "<a href=\"https://colab.research.google.com/github/shiva-samy/python-notebooks-for-cp-and-dsa/blob/main/Good_Leetcode_Problems.ipynb\" target=\"_parent\"><img src=\"https://colab.research.google.com/assets/colab-badge.svg\" alt=\"Open In Colab\"/></a>"
   ]
  },
  {
   "cell_type": "markdown",
   "metadata": {
    "id": "e665J4hkvOyw"
   },
   "source": [
    "Video link: https://www.youtube.com/watch?v=lvO88XxNAzs\n",
    "\n",
    "There might be some better solutions than the ones in the given video link, so make sure to make note of it as well."
   ]
  },
  {
   "cell_type": "markdown",
   "metadata": {
    "id": "BmUzS-nm947r"
   },
   "source": [
    "# **Arrays**"
   ]
  },
  {
   "cell_type": "markdown",
   "metadata": {},
   "source": [
    "**1. Contains Duplicate:**\n",
    "\n",
    "Given an integer array *nums*, return *true* if any value appears at least twice in the array, and return *false* if every element is distinct."
   ]
  },
  {
   "cell_type": "code",
   "execution_count": 8,
   "metadata": {},
   "outputs": [
    {
     "name": "stdout",
     "output_type": "stream",
     "text": [
      "True\n"
     ]
    }
   ],
   "source": [
    "def containsDuplicate(nums):\n",
    "    sampset=set()\n",
    "    for i in nums:\n",
    "        if i in sampset:\n",
    "            return True\n",
    "        sampset.add(i)\n",
    "    return False\n",
    "\n",
    "print(containsDuplicate([1,2,3,1]))"
   ]
  },
  {
   "cell_type": "markdown",
   "metadata": {},
   "source": [
    "**2. Missing Number:**\n",
    "\n",
    "Given an array *nums* containing *n* distinct numbers in the range *[0, n]*, return the only number in the range that is missing from the array."
   ]
  },
  {
   "cell_type": "code",
   "execution_count": 9,
   "metadata": {},
   "outputs": [
    {
     "name": "stdout",
     "output_type": "stream",
     "text": [
      "2.0\n"
     ]
    }
   ],
   "source": [
    "def missingNumber(nums):\n",
    "    n=len(nums)\n",
    "    sum=0\n",
    "    for i in nums:\n",
    "        sum+=i\n",
    "    return (n*(n+1)/2)-sum\n",
    "\n",
    "print(missingNumber([3,0,1]))"
   ]
  },
  {
   "cell_type": "markdown",
   "metadata": {},
   "source": [
    "**3. Find All the numbers disappeared in an Array:**\n",
    "\n",
    "Given an array *nums* of *n* integers where *nums[i]* is in the range *[1, n]*, return an array of all the integers in the range *[1, n]* that do not appear in *nums*."
   ]
  },
  {
   "cell_type": "code",
   "execution_count": 10,
   "metadata": {},
   "outputs": [
    {
     "name": "stdout",
     "output_type": "stream",
     "text": [
      "[5, 6]\n"
     ]
    }
   ],
   "source": [
    "def findDisappearedNumbers(nums):\n",
    "    nums_set=set(nums)\n",
    "    ret=[]\n",
    "    for i in range(1,len(nums)+1):\n",
    "        if i not in nums_set:\n",
    "            ret.append(i)\n",
    "    return ret\n",
    "\n",
    "print(findDisappearedNumbers([4,3,2,7,8,2,3,1]))"
   ]
  },
  {
   "cell_type": "markdown",
   "metadata": {},
   "source": [
    "**4. Two Sum:**\n",
    "\n",
    "Given an array of integers *nums* and an integer *target*, return indices of the two numbers such that they add up to *target*.\n",
    "\n",
    "You may **assume** that **each input** would have **exactly one solution**, and you may **not use the same element twice**.\n",
    "\n",
    "You can **return** the **answer** in **any order**."
   ]
  },
  {
   "cell_type": "code",
   "execution_count": 11,
   "metadata": {},
   "outputs": [
    {
     "name": "stdout",
     "output_type": "stream",
     "text": [
      "[1, 0]\n"
     ]
    }
   ],
   "source": [
    "def twoSum(nums, target):\n",
    "    dictvalindex={}\n",
    "    n=len(nums)\n",
    "    for i in range(n):\n",
    "        if target-nums[i] not in dictvalindex:\n",
    "            dictvalindex[nums[i]]=i\n",
    "        else:\n",
    "            return [i,dictvalindex[target - nums[i]]]\n",
    "        \n",
    "print(twoSum([2,7,11,15], 9))"
   ]
  },
  {
   "cell_type": "markdown",
   "metadata": {},
   "source": [
    "**5. How many numbers are smaller than the current number:**\n",
    "\n",
    "Given the array *nums*, for each *nums[i]* find out how many numbers in the array are smaller than it. That is, for each *nums[i]* you have to count the number of valid *j*'s such that *j != i* and *nums[j] < nums[i]*.\n",
    "\n",
    "Return the answer in an array."
   ]
  },
  {
   "cell_type": "code",
   "execution_count": 12,
   "metadata": {},
   "outputs": [
    {
     "name": "stdout",
     "output_type": "stream",
     "text": [
      "[4, 0, 1, 1, 3]\n"
     ]
    }
   ],
   "source": [
    "def smallerNumbersThanCurrent(nums):\n",
    "    new_nums=sorted(nums)\n",
    "    ret=[]\n",
    "    dic={}\n",
    "    for i, v in enumerate(new_nums):\n",
    "        if v not in dic:\n",
    "            dic[v]=i\n",
    "    for i in nums:\n",
    "        ret.append(dic[i])\n",
    "    return ret\n",
    "\n",
    "print(smallerNumbersThanCurrent([8,1,2,2,3]))"
   ]
  },
  {
   "cell_type": "markdown",
   "metadata": {},
   "source": [
    "**6. Minimum time visiting all points:**\n",
    "\n",
    "On a 2D plane, there are n points with integer coordinates points[i] = [xi, yi]. Return the minimum time in seconds to visit all the points in the order given by points.\n",
    "\n",
    "You can move according to these rules:\n",
    "\n",
    "In 1 second, you can either:\n",
    "* move vertically by one unit,\n",
    "* move horizontally by one unit, or\n",
    "* move diagonally sqrt(2) units (in other words, move one unit vertically then one unit horizontally in 1 second).\n",
    "\n",
    "You have to visit the points in the same order as they appear in the array.\n",
    "\n",
    "You are allowed to pass through points that appear later in the order, but these do not count as visits.\n",
    " \n",
    "**Example 1:**\n",
    "\n",
    "Input: *points = [[1,1],[3,4],[-1,0]]*\n",
    "\n",
    "Output: *7*\n",
    "\n",
    "Explanation: \n",
    "\n",
    "One optimal path is [1,1] -> [2,2] -> [3,3] -> [3,4] -> [2,3] -> [1,2] -> [0,1] -> [-1,0]\n",
    "\n",
    "Time from [1,1] to [3,4] = 3 seconds \n",
    "\n",
    "Time from [3,4] to [-1,0] = 4 seconds\n",
    "\n",
    "Total time = 7 seconds"
   ]
  },
  {
   "cell_type": "code",
   "execution_count": 13,
   "metadata": {},
   "outputs": [
    {
     "name": "stdout",
     "output_type": "stream",
     "text": [
      "7\n"
     ]
    }
   ],
   "source": [
    "def minTimeToVisitAllPoints(points):\n",
    "    x1,y1 = points.pop()\n",
    "    time=0\n",
    "    while points:\n",
    "        x2, y2 = points.pop()\n",
    "        time+=max(abs(x2-x1),abs(y2-y1))\n",
    "        x1,y1=x2,y2\n",
    "    return time\n",
    "\n",
    "print(minTimeToVisitAllPoints([[1,1],[3,4],[-1,0]]))"
   ]
  },
  {
   "cell_type": "markdown",
   "metadata": {},
   "source": [
    "**7. Spiral Matrix:**\n",
    "\n",
    "Given an *m x n matrix*, return all elements of the *matrix* in **spiral order**."
   ]
  },
  {
   "cell_type": "code",
   "execution_count": 14,
   "metadata": {},
   "outputs": [
    {
     "name": "stdout",
     "output_type": "stream",
     "text": [
      "[1, 2, 3, 6, 9, 8, 7, 4, 5]\n"
     ]
    }
   ],
   "source": [
    "def spiralOrder(matrix):\n",
    "    ret = []\n",
    "    while matrix:\n",
    "        ret+=matrix.pop(0)\n",
    "        if matrix and matrix[0]:\n",
    "            for row in matrix:\n",
    "                ret.append(row.pop())\n",
    "        if matrix:\n",
    "            ret+=matrix.pop()[::-1]\n",
    "        if matrix and matrix[0]:\n",
    "            for row in matrix[::-1]:\n",
    "                ret.append(row.pop(0))\n",
    "    return ret\n",
    "\n",
    "print(spiralOrder([[1,2,3],[4,5,6],[7,8,9]]))"
   ]
  },
  {
   "cell_type": "markdown",
   "metadata": {},
   "source": [
    "**8. Number of Islands:**\n",
    "\n",
    "Given an m x n 2D binary grid *grid* which represents a map of '1's (land) and '0's (water), return the number of islands.\n",
    "\n",
    "An island is surrounded by water and is formed by connecting adjacent lands horizontally or vertically. You may assume all four edges of the grid are all surrounded by water."
   ]
  },
  {
   "cell_type": "code",
   "execution_count": 1,
   "metadata": {},
   "outputs": [
    {
     "name": "stdout",
     "output_type": "stream",
     "text": [
      "1\n"
     ]
    }
   ],
   "source": [
    "from collections import deque\n",
    "\n",
    "def numIslands(grid):\n",
    "    if not grid:\n",
    "        return 0\n",
    "    def bfs(r,c):\n",
    "        q=deque()\n",
    "        visit.add((r,c))\n",
    "        q.append((r,c))\n",
    "        while q:\n",
    "            row,col=q.popleft()\n",
    "            directions=[[1,0],[-1,0],[0,1],[0,-1]]\n",
    "            for dr, dc in directions:\n",
    "                r,c = row+dr, col+dc\n",
    "                if(r in range(rows) and c in range(cols) and grid[r][c]==\"1\" and (r,c) not in visit):\n",
    "                    q.append((r,c))\n",
    "                    visit.add((r,c))\n",
    "    \n",
    "    count=0\n",
    "    rows=len(grid)\n",
    "    cols=len(grid[0])\n",
    "    visit=set()\n",
    "\n",
    "    for r in range(rows):\n",
    "        for c in range(cols):\n",
    "            if grid[r][c]==\"1\" and (r,c) not in visit:\n",
    "                bfs(r,c)\n",
    "                count+=1\n",
    "    \n",
    "    return count\n",
    "\n",
    "grid = [\n",
    "  [\"1\",\"1\",\"1\",\"1\",\"0\"],\n",
    "  [\"1\",\"1\",\"0\",\"1\",\"0\"],\n",
    "  [\"1\",\"1\",\"0\",\"0\",\"0\"],\n",
    "  [\"0\",\"0\",\"0\",\"0\",\"0\"]\n",
    "]\n",
    "\n",
    "print(numIslands(grid))"
   ]
  },
  {
   "cell_type": "markdown",
   "metadata": {
    "id": "UA9BJWOb-BSr"
   },
   "source": [
    "# **Two pointers**"
   ]
  },
  {
   "cell_type": "markdown",
   "metadata": {
    "id": "YWNhIUhRxnhq"
   },
   "source": [
    "**1. Best time to buy and sell stock:**\n",
    "\n",
    "You are given an array *prices* where *prices[i]* is the price of a given stock on the *i* th day.\n",
    "\n",
    "You want to maximize your profit by choosing a single day to buy one stock and choosing a different day in the future to sell that stock.\n",
    "\n",
    "Return the maximum profit you can achieve from this transaction. If you cannot achieve any profit, return 0."
   ]
  },
  {
   "cell_type": "code",
   "execution_count": null,
   "metadata": {
    "colab": {
     "base_uri": "https://localhost:8080/"
    },
    "id": "tvBPXTWc1G1s",
    "outputId": "a30e8e50-5f77-4281-e5d5-14fe47702644"
   },
   "outputs": [
    {
     "name": "stdout",
     "output_type": "stream",
     "text": [
      "5\n"
     ]
    }
   ],
   "source": [
    "\"\"\"Answer:\"\"\"\n",
    "def maxProfit(prices):\n",
    "  l,r,maxP,n=0,1,0,len(prices)\n",
    "  while r!=n:\n",
    "    if prices[l]<prices[r]:\n",
    "      prof=prices[r]-prices[l]\n",
    "      maxP=max(prof,maxP)\n",
    "    else:\n",
    "      l=r\n",
    "    r+=1\n",
    "  return maxP\n",
    "\n",
    "print(maxProfit([7,1,5,3,6,4]))\n"
   ]
  },
  {
   "cell_type": "markdown",
   "metadata": {
    "id": "7r4fZpxGGgcG"
   },
   "source": [
    "**2. Squares of a sorted array:**\n",
    "\n",
    "Given an integer array nums sorted in non-decreasing order, return an array of the squares of each number sorted in non-decreasing order."
   ]
  },
  {
   "cell_type": "code",
   "execution_count": null,
   "metadata": {
    "colab": {
     "base_uri": "https://localhost:8080/"
    },
    "id": "pnopQE6nGigl",
    "outputId": "8c34cd32-f73f-46d1-b245-a8f4ec3d1b57"
   },
   "outputs": [
    {
     "name": "stdout",
     "output_type": "stream",
     "text": [
      "[0, 1, 9, 16, 100]\n"
     ]
    }
   ],
   "source": [
    "def sortedSquares(nums):\n",
    "  l,r=0,len(nums)-1\n",
    "  ans=[]\n",
    "  while(l<=r):\n",
    "    if abs(nums[l])>abs(nums[r]):\n",
    "      ans.append(nums[l]*nums[l])\n",
    "      l+=1\n",
    "    else:\n",
    "      ans.append(nums[r]*nums[r])\n",
    "      r-=1\n",
    "  return ans[::-1]\n",
    "\n",
    "print(sortedSquares([-4,-1,0,3,10]))"
   ]
  },
  {
   "cell_type": "markdown",
   "metadata": {
    "id": "MQMFer9RHDjj"
   },
   "source": [
    "**3. 3Sum:**\n",
    "\n",
    "Given an integer array nums, return all the triplets *{nums[i], nums[j], nums[k]}* such that *i != j, i != k*, and *j != k*, and *nums[i] + nums[j] + nums[k] == 0*.\n",
    "\n",
    "Notice that the solution set must not contain duplicate triplets."
   ]
  },
  {
   "cell_type": "code",
   "execution_count": 1,
   "metadata": {
    "colab": {
     "base_uri": "https://localhost:8080/"
    },
    "id": "5kISufV7sXfO",
    "outputId": "aa77ac0a-9940-40ec-c40f-e706cff4f068"
   },
   "outputs": [
    {
     "name": "stdout",
     "output_type": "stream",
     "text": [
      "[[-1, -1, 2], [-1, 0, 1]]\n"
     ]
    }
   ],
   "source": [
    "def threeSum(nums):\n",
    "        triplets=[]\n",
    "        nums.sort()\n",
    "        for i,v in enumerate(nums):\n",
    "            if i>0 and v==nums[i-1]:\n",
    "                continue\n",
    "            l=i+1\n",
    "            r=len(nums)-1\n",
    "            while(l<r):\n",
    "                curSum=v+nums[l]+nums[r]\n",
    "                if(curSum<0):\n",
    "                    l+=1\n",
    "                elif(curSum>0):\n",
    "                    r-=1\n",
    "                else:\n",
    "                    triplets.append([v,nums[l],nums[r]])\n",
    "                    l+=1\n",
    "                    while(l<r and nums[l]==nums[l-1]):\n",
    "                        l+=1\n",
    "        return triplets\n",
    "\n",
    "print(threeSum([-1,0,1,2,-1,-4]))"
   ]
  },
  {
   "cell_type": "markdown",
   "metadata": {
    "id": "qkkcfRbqun1m"
   },
   "source": [
    "**4. Longest Mountain in Array**\n",
    "\n",
    "Given an integer array *arr*, return the length of the longest subarray, which is a mountain. Return 0 if there is no mountain subarray."
   ]
  },
  {
   "cell_type": "code",
   "execution_count": null,
   "metadata": {
    "id": "AauISYgsum8Q"
   },
   "outputs": [],
   "source": [
    "def longestMountain(self, arr):\n",
    "        ret=0\n",
    "        for i in range(1,len(arr)-1):\n",
    "            if(arr[i-1]<arr[i]>arr[i+1]):\n",
    "                l=r=i\n",
    "                while(l>0 and arr[l]>arr[l-1]):\n",
    "                    l-=1\n",
    "                while(r<len(arr)-1 and arr[r]>arr[r+1]):\n",
    "                    r+=1\n",
    "                ret=max(ret,r-l+1)\n",
    "        return ret"
   ]
  },
  {
   "cell_type": "markdown",
   "metadata": {
    "id": "uzoNQUuy-LgN"
   },
   "source": [
    "# **Sliding Window**"
   ]
  },
  {
   "cell_type": "markdown",
   "metadata": {},
   "source": [
    "**1. Contains Duplicate II:**\n",
    "\n",
    "Given an integer array *nums* and an integer *k*, return *true* if there are two distinct indices *i* and *j* in the array such that *nums[i] == nums[j]* and *abs(i - j) <= k*."
   ]
  },
  {
   "cell_type": "code",
   "execution_count": 2,
   "metadata": {},
   "outputs": [
    {
     "data": {
      "text/plain": [
       "True"
      ]
     },
     "execution_count": 2,
     "metadata": {},
     "output_type": "execute_result"
    }
   ],
   "source": [
    "#Set solution:\n",
    "\n",
    "def containsNearbyDuplicate(nums, k):\n",
    "    seen=set()\n",
    "    for i,v in enumerate(nums):\n",
    "        if v in seen:\n",
    "            return True\n",
    "        seen.add(v)\n",
    "        if len(seen)>k:\n",
    "            seen.remove(nums[i-k])\n",
    "    return False\n",
    "\n",
    "containsNearbyDuplicate([1,2,3,1], 3)"
   ]
  },
  {
   "cell_type": "code",
   "execution_count": 5,
   "metadata": {},
   "outputs": [
    {
     "data": {
      "text/plain": [
       "True"
      ]
     },
     "execution_count": 5,
     "metadata": {},
     "output_type": "execute_result"
    }
   ],
   "source": [
    "#Dictionary Solution:\n",
    "\n",
    "def containsNearbyDuplicate(nums, k):\n",
    "    seen={}\n",
    "    for i in range(len(nums)):\n",
    "        if((nums[i] in seen) and ((i - seen[nums[i]]) <=k)):\n",
    "            return True\n",
    "        seen[nums[i]] = i\n",
    "    return False\n",
    "\n",
    "containsNearbyDuplicate([1,2,3,1], 3)"
   ]
  },
  {
   "cell_type": "markdown",
   "metadata": {},
   "source": [
    "**2. Minimum Absolute Difference:**\n",
    "\n",
    "Given an array of distinct integers *arr*, find all pairs of elements with the minimum absolute difference of any two elements.\n",
    "\n",
    "Return *a* list of pairs in ascending order(with respect to pairs), each pair *[a, b]* follows\n",
    "\n",
    "* *a*, *b* are from *arr*\n",
    "* *a* < *b*\n",
    "* *b* - *a* equals to the minimum absolute difference of any two elements in *arr*"
   ]
  },
  {
   "cell_type": "code",
   "execution_count": 7,
   "metadata": {},
   "outputs": [
    {
     "name": "stdout",
     "output_type": "stream",
     "text": [
      "[[1, 2], [2, 3], [3, 4]]\n"
     ]
    }
   ],
   "source": [
    "def minimumAbsDifference(arr):\n",
    "    arr.sort()\n",
    "    ret=[]\n",
    "    mindiff=arr[1]-arr[0]\n",
    "    for i in range(len(arr)-1):\n",
    "        mindiff=min(mindiff,arr[i+1]-arr[i])\n",
    "    for i in range(len(arr)-1):\n",
    "        if arr[i+1]-arr[i]==mindiff:\n",
    "            ret.append([arr[i],arr[i+1]])\n",
    "    return ret\n",
    "\n",
    "print(minimumAbsDifference([4,2,1,3]))"
   ]
  },
  {
   "cell_type": "markdown",
   "metadata": {},
   "source": [
    "**3. Minimum Size Subarray Sum:**\n",
    "\n",
    "Given an array of positive integers nums and a positive integer target, return the _minimal length_ of a \n",
    "subarray whose sum is _greater than or equal to target_. If there is no such subarray, return 0 instead."
   ]
  },
  {
   "cell_type": "code",
   "execution_count": 6,
   "metadata": {},
   "outputs": [
    {
     "name": "stdout",
     "output_type": "stream",
     "text": [
      "2\n"
     ]
    }
   ],
   "source": [
    "def minSubArrayLen(target, nums):\n",
    "    l=0\n",
    "    total=0\n",
    "    ret=len(nums)+1\n",
    "    for r in range(len(nums)):\n",
    "        total+=nums[r]\n",
    "        while(total>=target):\n",
    "            ret=min(ret,r-l+1)\n",
    "            total -= nums[l]\n",
    "            l+=1\n",
    "    if ret==len(nums)+1:\n",
    "        return 0\n",
    "    return ret\n",
    "\n",
    "print(minSubArrayLen(7, [2,3,1,2,4,3]))"
   ]
  },
  {
   "cell_type": "markdown",
   "metadata": {
    "id": "QW5-RLZg-SkZ"
   },
   "source": [
    "# **Bit Manipulation**"
   ]
  },
  {
   "cell_type": "markdown",
   "metadata": {},
   "source": [
    "**1. Single Number:**\n",
    "\n",
    "Given a non-empty array of integers *nums*, **every element appears twice except for one. Find that single one.**\n",
    "\n",
    "You must implement a solution with a linear runtime complexity and use only constant extra space."
   ]
  },
  {
   "cell_type": "code",
   "execution_count": null,
   "metadata": {},
   "outputs": [],
   "source": [
    "def singleNumber(self, nums):\n",
    "    num=0\n",
    "    for i in nums:\n",
    "        num^=i\n",
    "    return num"
   ]
  },
  {
   "cell_type": "markdown",
   "metadata": {
    "id": "3-LqG0bU-X8y"
   },
   "source": [
    "# **Dynamic Programming**"
   ]
  },
  {
   "cell_type": "markdown",
   "metadata": {
    "id": "O0nal2we-ed7"
   },
   "source": [
    "# **Backtracking**"
   ]
  },
  {
   "cell_type": "markdown",
   "metadata": {
    "id": "bWe__qUd-hpw"
   },
   "source": [
    "# **Linked Lists**"
   ]
  },
  {
   "cell_type": "markdown",
   "metadata": {
    "id": "aXUi97rx-qwz"
   },
   "source": [
    "# **Stacks**"
   ]
  },
  {
   "cell_type": "markdown",
   "metadata": {
    "id": "_5j67Z5G-ucD"
   },
   "source": [
    "# **Queues**"
   ]
  },
  {
   "cell_type": "markdown",
   "metadata": {
    "id": "3358sJvE-yZ3"
   },
   "source": [
    "# **Binary Trees**"
   ]
  },
  {
   "cell_type": "markdown",
   "metadata": {
    "id": "TYYSBq34-15D"
   },
   "source": [
    "# **Binary Search Trees**"
   ]
  },
  {
   "cell_type": "markdown",
   "metadata": {
    "id": "x5JlEFVG-7UR"
   },
   "source": [
    "# **Heaps**"
   ]
  },
  {
   "cell_type": "markdown",
   "metadata": {
    "id": "OJuXw0b4--0y"
   },
   "source": [
    "# **Graphs**"
   ]
  }
 ],
 "metadata": {
  "colab": {
   "authorship_tag": "ABX9TyNaubh5MOy3eYczdz6x1hha",
   "include_colab_link": true,
   "provenance": []
  },
  "kernelspec": {
   "display_name": "Python 3",
   "name": "python3"
  },
  "language_info": {
   "codemirror_mode": {
    "name": "ipython",
    "version": 3
   },
   "file_extension": ".py",
   "mimetype": "text/x-python",
   "name": "python",
   "nbconvert_exporter": "python",
   "pygments_lexer": "ipython3",
   "version": "3.11.9"
  }
 },
 "nbformat": 4,
 "nbformat_minor": 0
}
