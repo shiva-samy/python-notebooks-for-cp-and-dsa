{
  "nbformat": 4,
  "nbformat_minor": 0,
  "metadata": {
    "colab": {
      "provenance": [],
      "authorship_tag": "ABX9TyNaubh5MOy3eYczdz6x1hha",
      "include_colab_link": true
    },
    "kernelspec": {
      "name": "python3",
      "display_name": "Python 3"
    },
    "language_info": {
      "name": "python"
    }
  },
  "cells": [
    {
      "cell_type": "markdown",
      "metadata": {
        "id": "view-in-github",
        "colab_type": "text"
      },
      "source": [
        "<a href=\"https://colab.research.google.com/github/shiva-samy/python-notebooks-for-cp-and-dsa/blob/main/Good_Leetcode_Problems.ipynb\" target=\"_parent\"><img src=\"https://colab.research.google.com/assets/colab-badge.svg\" alt=\"Open In Colab\"/></a>"
      ]
    },
    {
      "cell_type": "markdown",
      "source": [
        "Video link: https://www.youtube.com/watch?v=lvO88XxNAzs\n",
        "\n",
        "There might be some better solutions than the ones in the given video link, so make sure to make note of it as well."
      ],
      "metadata": {
        "id": "e665J4hkvOyw"
      }
    },
    {
      "cell_type": "markdown",
      "source": [
        "# **Arrays**"
      ],
      "metadata": {
        "id": "BmUzS-nm947r"
      }
    },
    {
      "cell_type": "markdown",
      "source": [
        "# **Two pointers**"
      ],
      "metadata": {
        "id": "UA9BJWOb-BSr"
      }
    },
    {
      "cell_type": "markdown",
      "source": [
        "**1. Best time to buy and sell stock:**\n",
        "\n",
        "You are given an array *prices* where *prices[i]* is the price of a given stock on the *i* th day.\n",
        "\n",
        "You want to maximize your profit by choosing a single day to buy one stock and choosing a different day in the future to sell that stock.\n",
        "\n",
        "Return the maximum profit you can achieve from this transaction. If you cannot achieve any profit, return 0."
      ],
      "metadata": {
        "id": "YWNhIUhRxnhq"
      }
    },
    {
      "cell_type": "code",
      "source": [
        "\"\"\"Answer:\"\"\"\n",
        "def maxProfit(prices):\n",
        "  l,r,maxP,n=0,1,0,len(prices)\n",
        "  while r!=n:\n",
        "    if prices[l]<prices[r]:\n",
        "      prof=prices[r]-prices[l]\n",
        "      maxP=max(prof,maxP)\n",
        "    else:\n",
        "      l=r\n",
        "    r+=1\n",
        "  return maxP\n",
        "\n",
        "print(maxProfit([7,1,5,3,6,4]))\n"
      ],
      "metadata": {
        "colab": {
          "base_uri": "https://localhost:8080/"
        },
        "id": "tvBPXTWc1G1s",
        "outputId": "a30e8e50-5f77-4281-e5d5-14fe47702644"
      },
      "execution_count": null,
      "outputs": [
        {
          "output_type": "stream",
          "name": "stdout",
          "text": [
            "5\n"
          ]
        }
      ]
    },
    {
      "cell_type": "markdown",
      "source": [
        "**2. Squares of a sorted array:**\n",
        "\n",
        "Given an integer array nums sorted in non-decreasing order, return an array of the squares of each number sorted in non-decreasing order."
      ],
      "metadata": {
        "id": "7r4fZpxGGgcG"
      }
    },
    {
      "cell_type": "code",
      "source": [
        "def sortedSquares(nums):\n",
        "  l,r=0,len(nums)-1\n",
        "  ans=[]\n",
        "  while(l<=r):\n",
        "    if abs(nums[l])>abs(nums[r]):\n",
        "      ans.append(nums[l]*nums[l])\n",
        "      l+=1\n",
        "    else:\n",
        "      ans.append(nums[r]*nums[r])\n",
        "      r-=1\n",
        "  return ans[::-1]\n",
        "\n",
        "print(sortedSquares([-4,-1,0,3,10]))"
      ],
      "metadata": {
        "colab": {
          "base_uri": "https://localhost:8080/"
        },
        "id": "pnopQE6nGigl",
        "outputId": "8c34cd32-f73f-46d1-b245-a8f4ec3d1b57"
      },
      "execution_count": null,
      "outputs": [
        {
          "output_type": "stream",
          "name": "stdout",
          "text": [
            "[0, 1, 9, 16, 100]\n"
          ]
        }
      ]
    },
    {
      "cell_type": "markdown",
      "source": [
        "**3. 3Sum:**\n",
        "\n",
        "Given an integer array nums, return all the triplets *{nums[i], nums[j], nums[k]}* such that *i != j, i != k*, and *j != k*, and *nums[i] + nums[j] + nums[k] == 0*.\n",
        "\n",
        "Notice that the solution set must not contain duplicate triplets."
      ],
      "metadata": {
        "id": "MQMFer9RHDjj"
      }
    },
    {
      "cell_type": "code",
      "source": [
        "def threeSum(nums):\n",
        "        triplets=[]\n",
        "        nums.sort()\n",
        "        for i,v in enumerate(nums):\n",
        "            if i>0 and v==nums[i-1]:\n",
        "                continue\n",
        "            l=i+1\n",
        "            r=len(nums)-1\n",
        "            while(l<r):\n",
        "                curSum=v+nums[l]+nums[r]\n",
        "                if(curSum<0):\n",
        "                    l+=1\n",
        "                elif(curSum>0):\n",
        "                    r-=1\n",
        "                else:\n",
        "                    triplets.append([v,nums[l],nums[r]])\n",
        "                    l+=1\n",
        "                    while(l<r and nums[l]==nums[l-1]):\n",
        "                        l+=1\n",
        "        return triplets\n",
        "\n",
        "print(threeSum([-1,0,1,2,-1,-4]))"
      ],
      "metadata": {
        "colab": {
          "base_uri": "https://localhost:8080/"
        },
        "id": "5kISufV7sXfO",
        "outputId": "aa77ac0a-9940-40ec-c40f-e706cff4f068"
      },
      "execution_count": 1,
      "outputs": [
        {
          "output_type": "stream",
          "name": "stdout",
          "text": [
            "[[-1, -1, 2], [-1, 0, 1]]\n"
          ]
        }
      ]
    },
    {
      "cell_type": "markdown",
      "source": [
        "**4. Longest Mountain in Array**\n",
        "\n",
        "Given an integer array *arr*, return the length of the longest subarray, which is a mountain. Return 0 if there is no mountain subarray."
      ],
      "metadata": {
        "id": "qkkcfRbqun1m"
      }
    },
    {
      "cell_type": "code",
      "source": [
        "def longestMountain(self, arr):\n",
        "        ret=0\n",
        "        for i in range(1,len(arr)-1):\n",
        "            if(arr[i-1]<arr[i]>arr[i+1]):\n",
        "                l=r=i\n",
        "                while(l>0 and arr[l]>arr[l-1]):\n",
        "                    l-=1\n",
        "                while(r<len(arr)-1 and arr[r]>arr[r+1]):\n",
        "                    r+=1\n",
        "                ret=max(ret,r-l+1)\n",
        "        return ret"
      ],
      "metadata": {
        "id": "AauISYgsum8Q"
      },
      "execution_count": null,
      "outputs": []
    },
    {
      "cell_type": "markdown",
      "source": [
        "# **Sliding Window**"
      ],
      "metadata": {
        "id": "uzoNQUuy-LgN"
      }
    },
    {
      "cell_type": "markdown",
      "source": [
        "# **Bit Manipulation**"
      ],
      "metadata": {
        "id": "QW5-RLZg-SkZ"
      }
    },
    {
      "cell_type": "markdown",
      "source": [
        "# **Dynamic Programming**"
      ],
      "metadata": {
        "id": "3-LqG0bU-X8y"
      }
    },
    {
      "cell_type": "markdown",
      "source": [
        "# **Backtracking**"
      ],
      "metadata": {
        "id": "O0nal2we-ed7"
      }
    },
    {
      "cell_type": "markdown",
      "source": [
        "# **Linked Lists**"
      ],
      "metadata": {
        "id": "bWe__qUd-hpw"
      }
    },
    {
      "cell_type": "markdown",
      "source": [
        "# **Stacks**"
      ],
      "metadata": {
        "id": "aXUi97rx-qwz"
      }
    },
    {
      "cell_type": "markdown",
      "source": [
        "# **Queues**"
      ],
      "metadata": {
        "id": "_5j67Z5G-ucD"
      }
    },
    {
      "cell_type": "markdown",
      "source": [
        "# **Binary Trees**"
      ],
      "metadata": {
        "id": "3358sJvE-yZ3"
      }
    },
    {
      "cell_type": "markdown",
      "source": [
        "# **Binary Search Trees**"
      ],
      "metadata": {
        "id": "TYYSBq34-15D"
      }
    },
    {
      "cell_type": "markdown",
      "source": [
        "# **Heaps**"
      ],
      "metadata": {
        "id": "x5JlEFVG-7UR"
      }
    },
    {
      "cell_type": "markdown",
      "source": [
        "# **Graphs**"
      ],
      "metadata": {
        "id": "OJuXw0b4--0y"
      }
    }
  ]
}